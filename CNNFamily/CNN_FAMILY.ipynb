{
 "cells": [
  {
   "cell_type": "code",
   "execution_count": 1,
   "metadata": {},
   "outputs": [
    {
     "name": "stderr",
     "output_type": "stream",
     "text": [
      "Using TensorFlow backend.\n"
     ]
    }
   ],
   "source": [
    "from keras.models import Sequential\n",
    "from keras.layers import Conv2D\n",
    "from keras.layers import MaxPooling2D\n",
    "from keras.layers import Flatten\n",
    "from keras.layers import Dense\n",
    "\n",
    "# Initialising the CNN\n",
    "classifier = Sequential()\n",
    "\n",
    "# Step 1 - Convolution\n",
    "classifier.add(Conv2D(32, (3, 3), input_shape = (64, 64, 3), activation = 'relu'))\n"
   ]
  },
  {
   "cell_type": "code",
   "execution_count": 2,
   "metadata": {},
   "outputs": [],
   "source": [
    "classifier.add(MaxPooling2D(pool_size = (2, 2)))\n",
    "\n",
    "# Adding a second convolutional layer\n",
    "classifier.add(Conv2D(32, (3, 3), activation = 'relu'))\n",
    "classifier.add(MaxPooling2D(pool_size = (2, 2)))\n",
    "\n",
    "\n",
    "\n",
    "# Step 3 - Flattening\n",
    "classifier.add(Flatten())\n",
    "\n",
    "# Step 4 - Full connection\n",
    "classifier.add(Dense(units = 128, activation = 'relu'))\n",
    "\n",
    "classifier.add(Dense(units = 3, activation = 'softmax'))\n",
    "\n",
    "# Compiling the CNN\n",
    "classifier.compile(optimizer = 'adam', loss = 'categorical_crossentropy', metrics = ['accuracy'])\n"
   ]
  },
  {
   "cell_type": "code",
   "execution_count": 3,
   "metadata": {},
   "outputs": [
    {
     "name": "stdout",
     "output_type": "stream",
     "text": [
      "Found 39 images belonging to 3 classes.\n",
      "Found 39 images belonging to 3 classes.\n"
     ]
    }
   ],
   "source": [
    "from keras.preprocessing.image import ImageDataGenerator\n",
    "\n",
    "train_datagen = ImageDataGenerator(rescale = 1./255,\n",
    "                                   shear_range = 0.2,\n",
    "                                   zoom_range = 0.2,\n",
    "                                   horizontal_flip = True)\n",
    "\n",
    "test_datagen = ImageDataGenerator(rescale = 1./255)\n",
    "\n",
    "training_set = train_datagen.flow_from_directory('/Users\\HP\\Videos\\Ineuron\\DL2\\CNNFamily\\Images',\n",
    "                                                 target_size = (64, 64),\n",
    "                                                 batch_size = 32)\n",
    "\n",
    "test_set = test_datagen.flow_from_directory('/Users\\HP\\Videos\\Ineuron\\DL2\\CNNFamily\\Images',\n",
    "                                            target_size = (64, 64),\n",
    "                                            batch_size = 32)\n",
    "\n"
   ]
  },
  {
   "cell_type": "code",
   "execution_count": 5,
   "metadata": {},
   "outputs": [
    {
     "name": "stdout",
     "output_type": "stream",
     "text": [
      "Epoch 1/5\n",
      "2000/2000 [==============================] - 1814s 907ms/step - loss: 0.0030 - accuracy: 0.9988 - val_loss: 0.0000e+00 - val_accuracy: 1.0000\n",
      "Epoch 2/5\n",
      "2000/2000 [==============================] - 1824s 912ms/step - loss: 5.4079e-08 - accuracy: 1.0000 - val_loss: 0.0000e+00 - val_accuracy: 1.0000\n",
      "Epoch 3/5\n",
      "2000/2000 [==============================] - 1821s 911ms/step - loss: 9.3555e-09 - accuracy: 1.0000 - val_loss: 0.0000e+00 - val_accuracy: 1.0000\n",
      "Epoch 4/5\n",
      "2000/2000 [==============================] - 1824s 912ms/step - loss: 3.9917e-09 - accuracy: 1.0000 - val_loss: 0.0000e+00 - val_accuracy: 1.0000\n",
      "Epoch 5/5\n",
      "2000/2000 [==============================] - 1309s 655ms/step - loss: 1.3631e-09 - accuracy: 1.0000 - val_loss: 0.0000e+00 - val_accuracy: 1.0000\n"
     ]
    },
    {
     "data": {
      "text/plain": [
       "<keras.callbacks.callbacks.History at 0x1ab0784b5c0>"
      ]
     },
     "execution_count": 5,
     "metadata": {},
     "output_type": "execute_result"
    }
   ],
   "source": [
    "classifier.fit_generator(training_set,\n",
    "                         steps_per_epoch = 2000,\n",
    "                         epochs = 5,\n",
    "                         validation_data = test_set,    \n",
    "                         validation_steps = 1000)"
   ]
  },
  {
   "cell_type": "code",
   "execution_count": 61,
   "metadata": {},
   "outputs": [
    {
     "data": {
      "image/png": "[encoded data removed]",
      "text/plain": [
       "<PIL.Image.Image image mode=RGB size=64x64 at 0x1AB0712FA90>"
      ]
     },
     "execution_count": 61,
     "metadata": {},
     "output_type": "execute_result"
    }
   ],
   "source": [
    "import numpy as np\n",
    "from keras.preprocessing import image\n",
    "test_image = image.load_img('/Users/HP\\Pictures/diksha.jpeg', target_size = (64, 64))\n",
    "test_image"
   ]
  },
  {
   "cell_type": "code",
   "execution_count": 62,
   "metadata": {},
   "outputs": [
    {
     "data": {
      "text/plain": [
       "array([[[ 65.,  56.,  57.],\n",
       "        [102.,  98.,  97.],\n",
       "        [ 99.,  61.,  50.],\n",
       "        ...,\n",
       "        [149.,  89.,  61.],\n",
       "        [145.,  88.,  58.],\n",
       "        [145.,  88.,  61.]],\n",
       "\n",
       "       [[ 65.,  60.,  57.],\n",
       "        [ 99.,  98.,  96.],\n",
       "        [103.,  65.,  52.],\n",
       "        ...,\n",
       "        [151.,  91.,  63.],\n",
       "        [150.,  89.,  60.],\n",
       "        [146.,  89.,  62.]],\n",
       "\n",
       "       [[ 80.,  72.,  70.],\n",
       "        [ 76.,  72.,  69.],\n",
       "        [116., 105.,  99.],\n",
       "        ...,\n",
       "        [156.,  95.,  66.],\n",
       "        [153.,  93.,  65.],\n",
       "        [151.,  91.,  63.]],\n",
       "\n",
       "       ...,\n",
       "\n",
       "       [[ 33.,  22.,  20.],\n",
       "        [ 33.,  22.,  20.],\n",
       "        [ 32.,  21.,  19.],\n",
       "        ...,\n",
       "        [ 41.,  49.,  51.],\n",
       "        [ 39.,  47.,  49.],\n",
       "        [ 27.,  35.,  37.]],\n",
       "\n",
       "       [[ 35.,  21.,  20.],\n",
       "        [ 35.,  21.,  20.],\n",
       "        [ 33.,  22.,  20.],\n",
       "        ...,\n",
       "        [ 46.,  52.,  50.],\n",
       "        [ 41.,  45.,  46.],\n",
       "        [ 25.,  29.,  30.]],\n",
       "\n",
       "       [[ 33.,  22.,  20.],\n",
       "        [ 33.,  22.,  20.],\n",
       "        [ 32.,  21.,  19.],\n",
       "        ...,\n",
       "        [ 27.,  33.,  31.],\n",
       "        [ 28.,  34.,  34.],\n",
       "        [ 32.,  38.,  38.]]], dtype=float32)"
      ]
     },
     "execution_count": 62,
     "metadata": {},
     "output_type": "execute_result"
    }
   ],
   "source": [
    "test_image = image.img_to_array(test_image)\n",
    "test_image"
   ]
  },
  {
   "cell_type": "code",
   "execution_count": 63,
   "metadata": {},
   "outputs": [
    {
     "data": {
      "text/plain": [
       "array([[[[ 65.,  56.,  57.],\n",
       "         [102.,  98.,  97.],\n",
       "         [ 99.,  61.,  50.],\n",
       "         ...,\n",
       "         [149.,  89.,  61.],\n",
       "         [145.,  88.,  58.],\n",
       "         [145.,  88.,  61.]],\n",
       "\n",
       "        [[ 65.,  60.,  57.],\n",
       "         [ 99.,  98.,  96.],\n",
       "         [103.,  65.,  52.],\n",
       "         ...,\n",
       "         [151.,  91.,  63.],\n",
       "         [150.,  89.,  60.],\n",
       "         [146.,  89.,  62.]],\n",
       "\n",
       "        [[ 80.,  72.,  70.],\n",
       "         [ 76.,  72.,  69.],\n",
       "         [116., 105.,  99.],\n",
       "         ...,\n",
       "         [156.,  95.,  66.],\n",
       "         [153.,  93.,  65.],\n",
       "         [151.,  91.,  63.]],\n",
       "\n",
       "        ...,\n",
       "\n",
       "        [[ 33.,  22.,  20.],\n",
       "         [ 33.,  22.,  20.],\n",
       "         [ 32.,  21.,  19.],\n",
       "         ...,\n",
       "         [ 41.,  49.,  51.],\n",
       "         [ 39.,  47.,  49.],\n",
       "         [ 27.,  35.,  37.]],\n",
       "\n",
       "        [[ 35.,  21.,  20.],\n",
       "         [ 35.,  21.,  20.],\n",
       "         [ 33.,  22.,  20.],\n",
       "         ...,\n",
       "         [ 46.,  52.,  50.],\n",
       "         [ 41.,  45.,  46.],\n",
       "         [ 25.,  29.,  30.]],\n",
       "\n",
       "        [[ 33.,  22.,  20.],\n",
       "         [ 33.,  22.,  20.],\n",
       "         [ 32.,  21.,  19.],\n",
       "         ...,\n",
       "         [ 27.,  33.,  31.],\n",
       "         [ 28.,  34.,  34.],\n",
       "         [ 32.,  38.,  38.]]]], dtype=float32)"
      ]
     },
     "execution_count": 63,
     "metadata": {},
     "output_type": "execute_result"
    }
   ],
   "source": [
    "test_image = np.expand_dims(test_image, axis = 0)\n",
    "test_image"
   ]
  },
  {
   "cell_type": "code",
   "execution_count": 64,
   "metadata": {},
   "outputs": [
    {
     "data": {
      "text/plain": [
       "array([[0., 1., 0.]], dtype=float32)"
      ]
     },
     "execution_count": 64,
     "metadata": {},
     "output_type": "execute_result"
    }
   ],
   "source": [
    "result = classifier.predict(test_image)\n",
    "result"
   ]
  },
  {
   "cell_type": "code",
   "execution_count": 65,
   "metadata": {},
   "outputs": [
    {
     "data": {
      "text/plain": [
       "{'Charul': 0, 'Diksha': 1, 'Mummy': 2}"
      ]
     },
     "execution_count": 65,
     "metadata": {},
     "output_type": "execute_result"
    }
   ],
   "source": [
    "training_set.class_indices\n"
   ]
  },
  {
   "cell_type": "code",
   "execution_count": 66,
   "metadata": {},
   "outputs": [
    {
     "name": "stdout",
     "output_type": "stream",
     "text": [
      "DIKSHA SHINDE\n"
     ]
    }
   ],
   "source": [
    "i=result\n",
    "if i[0][0]==1:\n",
    "    prediction = 'This is Charul Kumawat'\n",
    "    print(prediction)\n",
    "elif i[0][1]==1:\n",
    "    prediction = 'DIKSHA SHINDE'\n",
    "    print(prediction)\n",
    "else:\n",
    "    prediction = 'KAVITA SHINDE'\n",
    "    print(prediction)"
   ]
  },
  {
   "cell_type": "code",
   "execution_count": 67,
   "metadata": {},
   "outputs": [],
   "source": [
    "classifier.save(\"CNN-FAMILY.h5\")"
   ]
  },
  {
   "cell_type": "code",
   "execution_count": null,
   "metadata": {},
   "outputs": [],
   "source": []
  }
 ],
 "metadata": {
  "kernelspec": {
   "display_name": "Python 3",
   "language": "python",
   "name": "python3"
  },
  "language_info": {
   "codemirror_mode": {
    "name": "ipython",
    "version": 3
   },
   "file_extension": ".py",
   "mimetype": "text/x-python",
   "name": "python",
   "nbconvert_exporter": "python",
   "pygments_lexer": "ipython3",
   "version": "3.6.8"
  }
 },
 "nbformat": 4,
 "nbformat_minor": 4
}
